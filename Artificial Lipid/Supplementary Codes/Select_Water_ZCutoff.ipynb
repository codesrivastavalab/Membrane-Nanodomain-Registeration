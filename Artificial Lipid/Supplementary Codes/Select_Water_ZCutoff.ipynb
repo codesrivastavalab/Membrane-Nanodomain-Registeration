{
 "cells": [
  {
   "cell_type": "code",
   "execution_count": 2,
   "metadata": {},
   "outputs": [],
   "source": [
    "import MDAnalysis as md\n",
    "import numpy as np\n",
    "u=md.Universe(\"/home/aniruddha/Desktop/DPPC-D34-Chol/SIMU-D34/solv_D34_1.gro\")\n",
    "lip=u.select_atoms(\"not (resname SOL)\")\n",
    "P_min=16.36\n",
    "P_max=77.94\n",
    "ow=u.select_atoms(\"name OW\")\n",
    "sol_cut=u.select_atoms(\"resname SO\")\n",
    "k=len(ow)\n",
    "for i in range(k):\n",
    "    ow_resid=ow[i].resid\n",
    "    sol_resid=u.select_atoms(\"resid %d\"% ow_resid)\n",
    "    sol_coo=sol_resid.center_of_geometry()[2]\n",
    "    if ((sol_coo<P_min)|(sol_coo>P_max)):\n",
    "        sol_cut=sol_cut+sol_resid\n",
    "new_pdb=lip+sol_cut\n",
    "new_pdb.write(\"cut_solv_D34_1.pdb\")"
   ]
  },
  {
   "cell_type": "code",
   "execution_count": 3,
   "metadata": {},
   "outputs": [
    {
     "name": "stdout",
     "output_type": "stream",
     "text": [
      ""
     ]
    }
   ],
   "source": [
    "import MDAnalysis as md\n",
    "import numpy as np\n",
    "u=md.Universe(\"/home/aniruddha/Desktop/DPPC-D34-Chol/SIMU-D34/cut_solv_D34_1.pdb\")\n",
    "wato=u.select_atoms(\"resname SOL\")\n",
    "print(len(wato)/3)"
   ]
  }
 ],
 "metadata": {
  "kernelspec": {
   "display_name": "Python 3",
   "language": "python",
   "name": "python3"
  },
  "language_info": {
   "codemirror_mode": {
    "name": "ipython",
    "version": 3
   },
   "file_extension": ".py",
   "mimetype": "text/x-python",
   "name": "python",
   "nbconvert_exporter": "python",
   "pygments_lexer": "ipython3",
   "version": "3.7.3"
  }
 },
 "nbformat": 4,
 "nbformat_minor": 2
}
