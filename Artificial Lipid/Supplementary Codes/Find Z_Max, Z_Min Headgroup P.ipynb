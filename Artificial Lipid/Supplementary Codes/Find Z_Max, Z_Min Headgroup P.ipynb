{
 "cells": [
  {
   "cell_type": "code",
   "execution_count": 1,
   "metadata": {},
   "outputs": [
    {
     "name": "stdout",
     "output_type": "stream",     "text": [
      "",
      ""
     ]
    }
   ],
   "source": [
    "import MDAnalysis as md\n",
    "import numpy as np\n",
    "f=md.Universe(\"/home/aniruddha/Desktop/DPPC-D34-Chol/SIMU-D34/solv_D34_1.gro\")\n",
    "p_T=f.select_atoms(\"name P and prop z > 45\")\n",
    "p_B=f.select_atoms(\"name P and prop z < 45\")\n",
    "bil=f.select_atoms(\"resname DPP or resname CHL or resname LIG\")\n",
    "p_T_coo=p_T.positions\n",
    "p_B_coo=p_B.positions\n",
    "m=p_T_coo[0][2]\n",
    "# 112= p_T_coo.size/3\n",
    "for i in range(112):\n",
    "    if (p_T_coo[i][2]>m):\n",
    "        m=p_T_coo[i][2]\n",
    "    i=i+1\n",
    "print(m)\n",
    "n=p_B_coo[0][2]\n",
    "for i in range(112):\n",
    "    if(p_B_coo[i][2]<n):\n",
    "        n=p_B_coo[i][2]\n",
    "    i=i+1\n",
    "print(n)"
   ]
  }
 ],
 "metadata": {
  "kernelspec": {
   "display_name": "Python 3",
   "language": "python",
   "name": "python3"
  },
  "language_info": {
   "codemirror_mode": {
    "name": "ipython",
    "version": 3
   },
   "file_extension": ".py",
   "mimetype": "text/x-python",
   "name": "python",
   "nbconvert_exporter": "python",
   "pygments_lexer": "ipython3",
   "version": "3.7.3"
  }
 },
 "nbformat": 4,
 "nbformat_minor": 2
}
